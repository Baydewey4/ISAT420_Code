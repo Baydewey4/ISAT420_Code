{
 "cells": [
  {
   "cell_type": "markdown",
   "id": "e04a7efe",
   "metadata": {},
   "source": [
    "# Forking Exercise:\n",
    "\n",
    "Save this file with a new name and complete the template. \n",
    "\n",
    "## Things to Include\n",
    "\n",
    "Write down an environmental issue you care about. \n",
    "\n",
    "1. A bulleted list\n",
    "2. Some bold text\n",
    "3. A heading\n",
    "4. A hyperlink\n",
    "5. An Image \n",
    "\n",
    "[A Gu]\n"
   ]
  }
 ],
 "metadata": {
  "kernelspec": {
   "display_name": "Python 3",
   "language": "python",
   "name": "python3"
  },
  "language_info": {
   "codemirror_mode": {
    "name": "ipython",
    "version": 3
   },
   "file_extension": ".py",
   "mimetype": "text/x-python",
   "name": "python",
   "nbconvert_exporter": "python",
   "pygments_lexer": "ipython3",
   "version": "3.8.8"
  }
 },
 "nbformat": 4,
 "nbformat_minor": 5
}
